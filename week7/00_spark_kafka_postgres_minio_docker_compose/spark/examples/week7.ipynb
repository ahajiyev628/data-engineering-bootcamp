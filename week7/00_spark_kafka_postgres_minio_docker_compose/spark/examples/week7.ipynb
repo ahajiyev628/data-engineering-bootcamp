{
 "cells": [
  {
   "cell_type": "code",
   "execution_count": 7,
   "id": "44ad43d7-0068-45cc-9adc-e16a5d2e0953",
   "metadata": {},
   "outputs": [
    {
     "name": "stdout",
     "output_type": "stream",
     "text": [
      "--2024-10-19 18:43:55--  https://github.com/erkansirin78/datasets/raw/master/dirty_store_transactions.csv\n",
      "Resolving github.com (github.com)... 140.82.121.4\n",
      "Connecting to github.com (github.com)|140.82.121.4|:443... connected.\n",
      "HTTP request sent, awaiting response... 302 Found\n",
      "Location: https://raw.githubusercontent.com/erkansirin78/datasets/master/dirty_store_transactions.csv [following]\n",
      "--2024-10-19 18:43:56--  https://raw.githubusercontent.com/erkansirin78/datasets/master/dirty_store_transactions.csv\n",
      "Resolving raw.githubusercontent.com (raw.githubusercontent.com)... 185.199.111.133, 185.199.108.133, 185.199.109.133, ...\n",
      "Connecting to raw.githubusercontent.com (raw.githubusercontent.com)|185.199.111.133|:443... connected.\n",
      "HTTP request sent, awaiting response... 200 OK\n",
      "Length: 2609524 (2.5M) [text/plain]\n",
      "Saving to: ‘dirty_store_transactions.csv’\n",
      "\n",
      "dirty_store_transac 100%[===================>]   2.49M  4.91MB/s    in 0.5s    \n",
      "\n",
      "2024-10-19 18:43:57 (4.91 MB/s) - ‘dirty_store_transactions.csv’ saved [2609524/2609524]\n",
      "\n"
     ]
    }
   ],
   "source": [
    "! wget https://github.com/erkansirin78/datasets/raw/master/dirty_store_transactions.csv"
   ]
  },
  {
   "cell_type": "code",
   "execution_count": null,
   "id": "cb6f67ac-e0c4-4a94-b55f-4a26ac473bdb",
   "metadata": {},
   "outputs": [],
   "source": [
    "### 1. \n",
    "Clean data till you get following schema.\n",
    "#### 1.1. Schema\n",
    "```text\n",
    "root\n",
    " |-- STORE_ID: string (nullable = true)\n",
    " |-- STORE_LOCATION: string (nullable = true)\n",
    " |-- PRODUCT_CATEGORY: string (nullable = true)\n",
    " |-- PRODUCT_ID: integer (nullable = true)\n",
    " |-- MRP: float (nullable = true)\n",
    " |-- CP: float (nullable = true)\n",
    " |-- DISCOUNT: float (nullable = true)\n",
    " |-- SP: float (nullable = true)\n",
    " |-- Date_Casted: date (nullable = true)"
   ]
  },
  {
   "cell_type": "code",
   "execution_count": 19,
   "id": "c0ee309d-e85d-4b12-88bc-c527ef12d515",
   "metadata": {},
   "outputs": [],
   "source": [
    "from pyspark.sql import SparkSession\n",
    "from pyspark.sql.types import *\n",
    "from pyspark.sql import functions as F"
   ]
  },
  {
   "cell_type": "code",
   "execution_count": 3,
   "id": "3fd28945-aa1e-4cd5-bafb-115724f82986",
   "metadata": {},
   "outputs": [
    {
     "name": "stderr",
     "output_type": "stream",
     "text": [
      "Setting default log level to \"WARN\".\n",
      "To adjust logging level use sc.setLogLevel(newLevel). For SparkR, use setLogLevel(newLevel).\n",
      "24/10/19 18:42:02 WARN NativeCodeLoader: Unable to load native-hadoop library for your platform... using builtin-java classes where applicable\n"
     ]
    }
   ],
   "source": [
    "spark = SparkSession.builder \\\n",
    ".appName(\"week7\") \\\n",
    ".master(\"local[2]\") \\\n",
    ".getOrCreate()"
   ]
  },
  {
   "cell_type": "code",
   "execution_count": 47,
   "id": "e6f5de68-810e-4d9b-b062-d65c79c6db0a",
   "metadata": {},
   "outputs": [],
   "source": [
    "df = spark.read.format(\"csv\").option(\"header\", True).load(\"file:///opt/examples/dirty_store_transactions.csv\")"
   ]
  },
  {
   "cell_type": "code",
   "execution_count": 48,
   "id": "4f0f4ccc-dacd-4319-839c-bf11801cfb08",
   "metadata": {},
   "outputs": [
    {
     "data": {
      "text/plain": [
       "37853"
      ]
     },
     "execution_count": 48,
     "metadata": {},
     "output_type": "execute_result"
    }
   ],
   "source": [
    "df.count()"
   ]
  },
  {
   "cell_type": "code",
   "execution_count": 49,
   "id": "ab61aa34-3d1c-4a88-8bf3-9cd20868a282",
   "metadata": {},
   "outputs": [
    {
     "name": "stdout",
     "output_type": "stream",
     "text": [
      "+--------+--------------+----------------+----------+---+------+--------+------+----------+\n",
      "|STORE_ID|STORE_LOCATION|PRODUCT_CATEGORY|PRODUCT_ID|MRP|    CP|DISCOUNT|    SP|      Date|\n",
      "+--------+--------------+----------------+----------+---+------+--------+------+----------+\n",
      "|  YR7220|     New York(|     Electronics|  12254943|$31|$20.77|   $1.86|$29.14|2019-11-26|\n",
      "|  YR7220|     New York+|       Furniture| 72619323C|$15| $9.75|    $1.5| $13.5|2019-11-26|\n",
      "|  YR7220|     New York |     Electronics| 34161682B|$88|$62.48|    $4.4| $83.6|2019-11-26|\n",
      "|  YR7220|     New York!|         Kitchen|  79411621|$91|$58.24|   $3.64|$87.36|2019-11-26|\n",
      "|  YR7220|      New York|         Fashion| 39520263T|$85|   $51|   $2.55|$82.45|2019-11-26|\n",
      "|  YR7220|      New York|         Kitchen|  93809204|$37|$24.05|   $0.74|$36.26|2019-11-26|\n",
      "|  YR7220|      New York|       Cosmetics| 86610412D|$80| $48.8|    $6.4| $73.6|2019-11-26|\n",
      "|  YR7220|     New York$|         Kitchen| 52503356^|$71| $42.6|   $5.68|$65.32|2019-11-26|\n",
      "|  YR7220|      New York|         Kitchen|  77516479|$92|$56.12|   $3.68|$88.32|2019-11-26|\n",
      "|  YR7220|     New York!|       Cosmetics|  47334289|$16|$10.72|   $0.96|$15.04|2019-11-26|\n",
      "|  YR7220|    New York\"\"|       Cosmetics| 87566223^|$38|$23.18|   $2.66|$35.34|2019-11-26|\n",
      "|  YR7220|      New York|     Electronics| 54074401^|$26|$17.68|   $0.52|$25.48|2019-11-26|\n",
      "|  YR7220|      New York|         Fashion| 24246520G|$45|$30.15|   $1.35|$43.65|2019-11-26|\n",
      "|  YR7220|      New York|       Cosmetics|  61138610|$83|$57.27|   $1.66|$81.34|2019-11-26|\n",
      "|  YR7220|      New York|         Kitchen|  69018554|$55| $37.4|   $1.65|$53.35|2019-11-26|\n",
      "|  YR7220|      New York|       Groceries| 11950073P|$13| $7.93|   $0.39|$12.61|2019-11-26|\n",
      "|  YR7220|      New York|         Fashion|  86404418|$69| $48.3|   $4.83|$64.17|2019-11-26|\n",
      "|  YR7220|     New York+|         Fashion|  91763000|$18| $11.7|   $0.36|$17.64|2019-11-26|\n",
      "|  YR7220|      New York|       Groceries|  53648681|$52|$36.92|   $1.04|$50.96|2019-11-26|\n",
      "|  YR7220|      New York|       Groceries| 15652465T|$29|$18.85|   $2.03|$26.97|2019-11-26|\n",
      "+--------+--------------+----------------+----------+---+------+--------+------+----------+\n",
      "only showing top 20 rows\n",
      "\n"
     ]
    }
   ],
   "source": [
    "df.show()"
   ]
  },
  {
   "cell_type": "code",
   "execution_count": 50,
   "id": "26e5dbf7-0db7-4500-847e-ff43e72d8ef8",
   "metadata": {},
   "outputs": [
    {
     "name": "stdout",
     "output_type": "stream",
     "text": [
      "root\n",
      " |-- STORE_ID: string (nullable = true)\n",
      " |-- STORE_LOCATION: string (nullable = true)\n",
      " |-- PRODUCT_CATEGORY: string (nullable = true)\n",
      " |-- PRODUCT_ID: string (nullable = true)\n",
      " |-- MRP: string (nullable = true)\n",
      " |-- CP: string (nullable = true)\n",
      " |-- DISCOUNT: string (nullable = true)\n",
      " |-- SP: string (nullable = true)\n",
      " |-- Date: string (nullable = true)\n",
      "\n"
     ]
    }
   ],
   "source": [
    "df.printSchema()"
   ]
  },
  {
   "cell_type": "code",
   "execution_count": 51,
   "id": "288b39cd-6bf3-4248-9fb9-c5ef364eb902",
   "metadata": {},
   "outputs": [],
   "source": [
    "df = df.select(*[F.trim(F.col(c)).alias(c) if isinstance(df.schema[c].dataType, StringType) else col(c) for c in df.columns])"
   ]
  },
  {
   "cell_type": "code",
   "execution_count": 52,
   "id": "30d844ec-d5df-4d9b-9972-42f1a33dfe96",
   "metadata": {},
   "outputs": [
    {
     "name": "stdout",
     "output_type": "stream",
     "text": [
      "+--------+--------------+----------------+----------+---+------+--------+------+----------+\n",
      "|STORE_ID|STORE_LOCATION|PRODUCT_CATEGORY|PRODUCT_ID|MRP|    CP|DISCOUNT|    SP|      Date|\n",
      "+--------+--------------+----------------+----------+---+------+--------+------+----------+\n",
      "|  YR7220|     New York(|     Electronics|  12254943|$31|$20.77|   $1.86|$29.14|2019-11-26|\n",
      "|  YR7220|     New York+|       Furniture| 72619323C|$15| $9.75|    $1.5| $13.5|2019-11-26|\n",
      "|  YR7220|      New York|     Electronics| 34161682B|$88|$62.48|    $4.4| $83.6|2019-11-26|\n",
      "|  YR7220|     New York!|         Kitchen|  79411621|$91|$58.24|   $3.64|$87.36|2019-11-26|\n",
      "|  YR7220|      New York|         Fashion| 39520263T|$85|   $51|   $2.55|$82.45|2019-11-26|\n",
      "|  YR7220|      New York|         Kitchen|  93809204|$37|$24.05|   $0.74|$36.26|2019-11-26|\n",
      "|  YR7220|      New York|       Cosmetics| 86610412D|$80| $48.8|    $6.4| $73.6|2019-11-26|\n",
      "|  YR7220|     New York$|         Kitchen| 52503356^|$71| $42.6|   $5.68|$65.32|2019-11-26|\n",
      "|  YR7220|      New York|         Kitchen|  77516479|$92|$56.12|   $3.68|$88.32|2019-11-26|\n",
      "|  YR7220|     New York!|       Cosmetics|  47334289|$16|$10.72|   $0.96|$15.04|2019-11-26|\n",
      "|  YR7220|    New York\"\"|       Cosmetics| 87566223^|$38|$23.18|   $2.66|$35.34|2019-11-26|\n",
      "|  YR7220|      New York|     Electronics| 54074401^|$26|$17.68|   $0.52|$25.48|2019-11-26|\n",
      "|  YR7220|      New York|         Fashion| 24246520G|$45|$30.15|   $1.35|$43.65|2019-11-26|\n",
      "|  YR7220|      New York|       Cosmetics|  61138610|$83|$57.27|   $1.66|$81.34|2019-11-26|\n",
      "|  YR7220|      New York|         Kitchen|  69018554|$55| $37.4|   $1.65|$53.35|2019-11-26|\n",
      "|  YR7220|      New York|       Groceries| 11950073P|$13| $7.93|   $0.39|$12.61|2019-11-26|\n",
      "|  YR7220|      New York|         Fashion|  86404418|$69| $48.3|   $4.83|$64.17|2019-11-26|\n",
      "|  YR7220|     New York+|         Fashion|  91763000|$18| $11.7|   $0.36|$17.64|2019-11-26|\n",
      "|  YR7220|      New York|       Groceries|  53648681|$52|$36.92|   $1.04|$50.96|2019-11-26|\n",
      "|  YR7220|      New York|       Groceries| 15652465T|$29|$18.85|   $2.03|$26.97|2019-11-26|\n",
      "+--------+--------------+----------------+----------+---+------+--------+------+----------+\n",
      "only showing top 20 rows\n",
      "\n"
     ]
    }
   ],
   "source": [
    "df.show()"
   ]
  },
  {
   "cell_type": "code",
   "execution_count": 53,
   "id": "0a38ee79-626c-47c0-bdc1-278ef7e1b11c",
   "metadata": {},
   "outputs": [
    {
     "name": "stdout",
     "output_type": "stream",
     "text": [
      "+----------------+\n",
      "|product_category|\n",
      "+----------------+\n",
      "|       Education|\n",
      "|         Kitchen|\n",
      "|         Fashion|\n",
      "|       Groceries|\n",
      "|     Electronics|\n",
      "|       Furniture|\n",
      "|       Cosmetics|\n",
      "+----------------+\n",
      "\n"
     ]
    }
   ],
   "source": [
    "df.select(\"product_category\").distinct().show()"
   ]
  },
  {
   "cell_type": "code",
   "execution_count": 54,
   "id": "313e729d-0ca1-40a9-8cf3-4d9ca5ecd6bd",
   "metadata": {},
   "outputs": [
    {
     "name": "stdout",
     "output_type": "stream",
     "text": [
      "+--------------+-----+\n",
      "|store_location|count|\n",
      "+--------------+-----+\n",
      "|        Miami'|  222|\n",
      "|    New York\"\"|  315|\n",
      "|  Washington\"\"|  348|\n",
      "|        Miami)|  282|\n",
      "|      Houston%|  252|\n",
      "|        Miami&|  294|\n",
      "|      Houston$|  245|\n",
      "|     New York$|  245|\n",
      "|     New York'|  371|\n",
      "|     New York+|  266|\n",
      "|     New York(|  343|\n",
      "|     New York!|  364|\n",
      "|        Miami#|  288|\n",
      "|      Houston*|  280|\n",
      "|     New York&|  252|\n",
      "|        Miami$|  294|\n",
      "|       Denver$|  228|\n",
      "|      Houston'|  308|\n",
      "|       Denver+|  228|\n",
      "|      Houston(|  357|\n",
      "+--------------+-----+\n",
      "only showing top 20 rows\n",
      "\n"
     ]
    }
   ],
   "source": [
    "df.groupBy(\"store_location\").count().show()"
   ]
  },
  {
   "cell_type": "code",
   "execution_count": 55,
   "id": "0d053992-6b3a-465c-a500-905aaa2ee070",
   "metadata": {},
   "outputs": [],
   "source": [
    "df = df.withColumn(\"STORE_LOCATION\", F.regexp_replace(F.col(\"store_location\"), r\"[^a-zA-Z0-9\\s]\", \"\"))"
   ]
  },
  {
   "cell_type": "code",
   "execution_count": 56,
   "id": "3d3348a1-310d-4432-b01f-491becbb270b",
   "metadata": {},
   "outputs": [
    {
     "name": "stdout",
     "output_type": "stream",
     "text": [
      "+--------------+-----+\n",
      "|store_location|count|\n",
      "+--------------+-----+\n",
      "|    Washington| 8604|\n",
      "|       Houston| 7385|\n",
      "|         Miami| 7254|\n",
      "|      New York| 8064|\n",
      "|        Denver| 6546|\n",
      "+--------------+-----+\n",
      "\n"
     ]
    }
   ],
   "source": [
    "df.groupBy(\"store_location\").count().show()"
   ]
  },
  {
   "cell_type": "code",
   "execution_count": 57,
   "id": "4b3db570-9641-447a-b7ca-a9e482c636a5",
   "metadata": {},
   "outputs": [],
   "source": [
    "df = df.withColumn(\"PRODUCT_ID\",F.regexp_replace(F.col(\"product_id\"), r\"[^0-9]\", \"\")) \\\n",
    "       .withColumn(\"PRODUCT_ID\", F.col(\"product_id\").cast(\"int\"))"
   ]
  },
  {
   "cell_type": "code",
   "execution_count": 58,
   "id": "92794469-334f-436f-9b18-4bef2df4c8a0",
   "metadata": {},
   "outputs": [
    {
     "name": "stdout",
     "output_type": "stream",
     "text": [
      "root\n",
      " |-- STORE_ID: string (nullable = true)\n",
      " |-- STORE_LOCATION: string (nullable = true)\n",
      " |-- PRODUCT_CATEGORY: string (nullable = true)\n",
      " |-- PRODUCT_ID: integer (nullable = true)\n",
      " |-- MRP: string (nullable = true)\n",
      " |-- CP: string (nullable = true)\n",
      " |-- DISCOUNT: string (nullable = true)\n",
      " |-- SP: string (nullable = true)\n",
      " |-- Date: string (nullable = true)\n",
      "\n"
     ]
    }
   ],
   "source": [
    "df.printSchema()"
   ]
  },
  {
   "cell_type": "code",
   "execution_count": 59,
   "id": "6e68111e-39b1-44a9-ba12-bfc4ca9594cb",
   "metadata": {},
   "outputs": [],
   "source": [
    "float_cols = [\"MRP\", \"CP\", \"DISCOUNT\", \"SP\"]"
   ]
  },
  {
   "cell_type": "code",
   "execution_count": 60,
   "id": "1f04fb70-628e-422a-946a-66ee54900084",
   "metadata": {},
   "outputs": [],
   "source": [
    "for column in float_cols:\n",
    "    df = df.withColumn(column, F.regexp_replace(F.col(column), r\"\\$\", \"\")) \\\n",
    "           .withColumn(column, F.col(column).cast(\"float\"))"
   ]
  },
  {
   "cell_type": "code",
   "execution_count": 61,
   "id": "ac3db06f-b539-434f-912a-8494bd5b7690",
   "metadata": {},
   "outputs": [
    {
     "name": "stdout",
     "output_type": "stream",
     "text": [
      "+--------+--------------+----------------+----------+----+-----+--------+-----+----------+\n",
      "|STORE_ID|STORE_LOCATION|PRODUCT_CATEGORY|PRODUCT_ID| MRP|   CP|DISCOUNT|   SP|      Date|\n",
      "+--------+--------------+----------------+----------+----+-----+--------+-----+----------+\n",
      "|  YR7220|      New York|     Electronics|  12254943|31.0|20.77|    1.86|29.14|2019-11-26|\n",
      "|  YR7220|      New York|       Furniture|  72619323|15.0| 9.75|     1.5| 13.5|2019-11-26|\n",
      "|  YR7220|      New York|     Electronics|  34161682|88.0|62.48|     4.4| 83.6|2019-11-26|\n",
      "|  YR7220|      New York|         Kitchen|  79411621|91.0|58.24|    3.64|87.36|2019-11-26|\n",
      "|  YR7220|      New York|         Fashion|  39520263|85.0| 51.0|    2.55|82.45|2019-11-26|\n",
      "|  YR7220|      New York|         Kitchen|  93809204|37.0|24.05|    0.74|36.26|2019-11-26|\n",
      "|  YR7220|      New York|       Cosmetics|  86610412|80.0| 48.8|     6.4| 73.6|2019-11-26|\n",
      "|  YR7220|      New York|         Kitchen|  52503356|71.0| 42.6|    5.68|65.32|2019-11-26|\n",
      "|  YR7220|      New York|         Kitchen|  77516479|92.0|56.12|    3.68|88.32|2019-11-26|\n",
      "|  YR7220|      New York|       Cosmetics|  47334289|16.0|10.72|    0.96|15.04|2019-11-26|\n",
      "|  YR7220|      New York|       Cosmetics|  87566223|38.0|23.18|    2.66|35.34|2019-11-26|\n",
      "|  YR7220|      New York|     Electronics|  54074401|26.0|17.68|    0.52|25.48|2019-11-26|\n",
      "|  YR7220|      New York|         Fashion|  24246520|45.0|30.15|    1.35|43.65|2019-11-26|\n",
      "|  YR7220|      New York|       Cosmetics|  61138610|83.0|57.27|    1.66|81.34|2019-11-26|\n",
      "|  YR7220|      New York|         Kitchen|  69018554|55.0| 37.4|    1.65|53.35|2019-11-26|\n",
      "|  YR7220|      New York|       Groceries|  11950073|13.0| 7.93|    0.39|12.61|2019-11-26|\n",
      "|  YR7220|      New York|         Fashion|  86404418|69.0| 48.3|    4.83|64.17|2019-11-26|\n",
      "|  YR7220|      New York|         Fashion|  91763000|18.0| 11.7|    0.36|17.64|2019-11-26|\n",
      "|  YR7220|      New York|       Groceries|  53648681|52.0|36.92|    1.04|50.96|2019-11-26|\n",
      "|  YR7220|      New York|       Groceries|  15652465|29.0|18.85|    2.03|26.97|2019-11-26|\n",
      "+--------+--------------+----------------+----------+----+-----+--------+-----+----------+\n",
      "only showing top 20 rows\n",
      "\n"
     ]
    }
   ],
   "source": [
    "df.show()"
   ]
  },
  {
   "cell_type": "code",
   "execution_count": 63,
   "id": "b3f66a48-475d-49de-a65f-b00172a1d9a2",
   "metadata": {},
   "outputs": [],
   "source": [
    "df = df.withColumn(\"Date_Casted\", F.col(\"Date\").cast(\"date\")).drop(\"Date\")"
   ]
  },
  {
   "cell_type": "code",
   "execution_count": 64,
   "id": "91259d0f-001c-4cda-a5a0-c18012e80135",
   "metadata": {},
   "outputs": [
    {
     "name": "stdout",
     "output_type": "stream",
     "text": [
      "+--------+--------------+----------------+----------+----+-----+--------+-----+-----------+\n",
      "|STORE_ID|STORE_LOCATION|PRODUCT_CATEGORY|PRODUCT_ID| MRP|   CP|DISCOUNT|   SP|Date_Casted|\n",
      "+--------+--------------+----------------+----------+----+-----+--------+-----+-----------+\n",
      "|  YR7220|      New York|     Electronics|  12254943|31.0|20.77|    1.86|29.14| 2019-11-26|\n",
      "|  YR7220|      New York|       Furniture|  72619323|15.0| 9.75|     1.5| 13.5| 2019-11-26|\n",
      "|  YR7220|      New York|     Electronics|  34161682|88.0|62.48|     4.4| 83.6| 2019-11-26|\n",
      "|  YR7220|      New York|         Kitchen|  79411621|91.0|58.24|    3.64|87.36| 2019-11-26|\n",
      "|  YR7220|      New York|         Fashion|  39520263|85.0| 51.0|    2.55|82.45| 2019-11-26|\n",
      "|  YR7220|      New York|         Kitchen|  93809204|37.0|24.05|    0.74|36.26| 2019-11-26|\n",
      "|  YR7220|      New York|       Cosmetics|  86610412|80.0| 48.8|     6.4| 73.6| 2019-11-26|\n",
      "|  YR7220|      New York|         Kitchen|  52503356|71.0| 42.6|    5.68|65.32| 2019-11-26|\n",
      "|  YR7220|      New York|         Kitchen|  77516479|92.0|56.12|    3.68|88.32| 2019-11-26|\n",
      "|  YR7220|      New York|       Cosmetics|  47334289|16.0|10.72|    0.96|15.04| 2019-11-26|\n",
      "|  YR7220|      New York|       Cosmetics|  87566223|38.0|23.18|    2.66|35.34| 2019-11-26|\n",
      "|  YR7220|      New York|     Electronics|  54074401|26.0|17.68|    0.52|25.48| 2019-11-26|\n",
      "|  YR7220|      New York|         Fashion|  24246520|45.0|30.15|    1.35|43.65| 2019-11-26|\n",
      "|  YR7220|      New York|       Cosmetics|  61138610|83.0|57.27|    1.66|81.34| 2019-11-26|\n",
      "|  YR7220|      New York|         Kitchen|  69018554|55.0| 37.4|    1.65|53.35| 2019-11-26|\n",
      "|  YR7220|      New York|       Groceries|  11950073|13.0| 7.93|    0.39|12.61| 2019-11-26|\n",
      "|  YR7220|      New York|         Fashion|  86404418|69.0| 48.3|    4.83|64.17| 2019-11-26|\n",
      "|  YR7220|      New York|         Fashion|  91763000|18.0| 11.7|    0.36|17.64| 2019-11-26|\n",
      "|  YR7220|      New York|       Groceries|  53648681|52.0|36.92|    1.04|50.96| 2019-11-26|\n",
      "|  YR7220|      New York|       Groceries|  15652465|29.0|18.85|    2.03|26.97| 2019-11-26|\n",
      "+--------+--------------+----------------+----------+----+-----+--------+-----+-----------+\n",
      "only showing top 20 rows\n",
      "\n"
     ]
    }
   ],
   "source": [
    "df.show()"
   ]
  },
  {
   "cell_type": "code",
   "execution_count": 65,
   "id": "7cfb0efa-728a-499c-a61d-44f00a34836b",
   "metadata": {},
   "outputs": [
    {
     "name": "stdout",
     "output_type": "stream",
     "text": [
      "root\n",
      " |-- STORE_ID: string (nullable = true)\n",
      " |-- STORE_LOCATION: string (nullable = true)\n",
      " |-- PRODUCT_CATEGORY: string (nullable = true)\n",
      " |-- PRODUCT_ID: integer (nullable = true)\n",
      " |-- MRP: float (nullable = true)\n",
      " |-- CP: float (nullable = true)\n",
      " |-- DISCOUNT: float (nullable = true)\n",
      " |-- SP: float (nullable = true)\n",
      " |-- Date_Casted: date (nullable = true)\n",
      "\n"
     ]
    }
   ],
   "source": [
    "df.printSchema()"
   ]
  },
  {
   "cell_type": "code",
   "execution_count": null,
   "id": "9163c670-df5a-4df2-95d6-c4d75a996edc",
   "metadata": {},
   "outputs": [],
   "source": []
  }
 ],
 "metadata": {
  "kernelspec": {
   "display_name": "Python 3 (ipykernel)",
   "language": "python",
   "name": "python3"
  },
  "language_info": {
   "codemirror_mode": {
    "name": "ipython",
    "version": 3
   },
   "file_extension": ".py",
   "mimetype": "text/x-python",
   "name": "python",
   "nbconvert_exporter": "python",
   "pygments_lexer": "ipython3",
   "version": "3.12.7"
  }
 },
 "nbformat": 4,
 "nbformat_minor": 5
}
