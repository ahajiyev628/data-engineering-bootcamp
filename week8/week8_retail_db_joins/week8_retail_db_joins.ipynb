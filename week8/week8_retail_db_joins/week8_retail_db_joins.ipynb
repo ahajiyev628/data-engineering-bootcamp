{
 "cells": [
  {
   "cell_type": "code",
   "execution_count": 1,
   "id": "838b4f59-1785-4454-9ea2-ca414a3ffb14",
   "metadata": {},
   "outputs": [],
   "source": [
    "import findspark"
   ]
  },
  {
   "cell_type": "code",
   "execution_count": 2,
   "id": "56a457ce-2153-4d5a-bf3e-bc566103a3e4",
   "metadata": {},
   "outputs": [],
   "source": [
    "findspark.init(\"/usr/local/spark\")"
   ]
  },
  {
   "cell_type": "code",
   "execution_count": 3,
   "id": "39128f96-ad22-4497-94e5-699691cd75a3",
   "metadata": {},
   "outputs": [],
   "source": [
    "from pyspark.sql import SparkSession, functions as F"
   ]
  },
  {
   "cell_type": "code",
   "execution_count": 9,
   "id": "84919c8f-fd56-4472-a73d-58f9c4ba851f",
   "metadata": {},
   "outputs": [
    {
     "name": "stderr",
     "output_type": "stream",
     "text": [
      "Setting default log level to \"WARN\".\n",
      "To adjust logging level use sc.setLogLevel(newLevel). For SparkR, use setLogLevel(newLevel).\n",
      "24/10/29 04:56:22 WARN NativeCodeLoader: Unable to load native-hadoop library for your platform... using builtin-java classes where applicable\n"
     ]
    }
   ],
   "source": [
    "spark = SparkSession.builder \\\n",
    ".appName(\"Spark YARN Example\") \\\n",
    ".master(\"local[2]\") \\\n",
    ".getOrCreate()"
   ]
  },
  {
   "cell_type": "code",
   "execution_count": 10,
   "id": "e8a01fca-db0b-4cdc-804a-b2c340a264e8",
   "metadata": {},
   "outputs": [],
   "source": [
    "spark.conf.set(\"spark.sql.legacy.timeParserPolicy\", \"LEGACY\")"
   ]
  },
  {
   "cell_type": "code",
   "execution_count": 11,
   "id": "b546ed8c-4c76-4440-b5f5-56fc9f93933f",
   "metadata": {},
   "outputs": [
    {
     "name": "stderr",
     "output_type": "stream",
     "text": [
      "                                                                                \r"
     ]
    }
   ],
   "source": [
    "order_items_df = spark.read.format('csv').option('header',True).option(\"inferSchema\", True).load('order_items.csv')\n",
    "orders_df = spark.read.format('csv').option('header',True).option(\"inferSchema\", True).load('orders.csv')\n",
    "products_df = spark.read.format('csv').option('header',True).option(\"inferSchema\", True).load('products.csv')\n",
    "categories_df = spark.read.format('csv').option('header',True).option(\"inferSchema\", True).load('categories.csv')\n",
    "departments_df = spark.read.format('csv').option('header',True).option(\"inferSchema\", True).load('departments.csv')\n",
    "customers_df = spark.read.format('csv').option('header',True).option(\"inferSchema\", True).load('customers.csv')"
   ]
  },
  {
   "cell_type": "code",
   "execution_count": null,
   "id": "91b31785-06a0-46c7-84fc-37577103b66c",
   "metadata": {},
   "outputs": [],
   "source": []
  },
  {
   "cell_type": "code",
   "execution_count": 12,
   "id": "e21d1660-aa90-4993-ba9c-ad07095260ab",
   "metadata": {},
   "outputs": [
    {
     "name": "stdout",
     "output_type": "stream",
     "text": [
      "+-------------+----------------+------------------+-----------------+-----------------+---------------------+\n",
      "|orderItemName|orderItemOrderId|orderItemProductId|orderItemQuantity|orderItemSubTotal|orderItemProductPrice|\n",
      "+-------------+----------------+------------------+-----------------+-----------------+---------------------+\n",
      "|            1|               1|               957|                1|           299.98|               299.98|\n",
      "|            2|               2|              1073|                1|           199.99|               199.99|\n",
      "|            3|               2|               502|                5|            250.0|                 50.0|\n",
      "|            4|               2|               403|                1|           129.99|               129.99|\n",
      "|            5|               4|               897|                2|            49.98|                24.99|\n",
      "+-------------+----------------+------------------+-----------------+-----------------+---------------------+\n",
      "only showing top 5 rows\n",
      "\n"
     ]
    }
   ],
   "source": [
    "order_items_df.show(5)"
   ]
  },
  {
   "cell_type": "code",
   "execution_count": 13,
   "id": "22d0f226-653c-4594-9cfe-40c8358d9969",
   "metadata": {},
   "outputs": [
    {
     "name": "stdout",
     "output_type": "stream",
     "text": [
      "+-------+--------------------+---------------+---------------+\n",
      "|orderId|           orderDate|orderCustomerId|    orderStatus|\n",
      "+-------+--------------------+---------------+---------------+\n",
      "|      1|2013-07-25 00:00:...|          11599|         CLOSED|\n",
      "|      2|2013-07-25 00:00:...|            256|PENDING_PAYMENT|\n",
      "|      3|2013-07-25 00:00:...|          12111|       COMPLETE|\n",
      "|      4|2013-07-25 00:00:...|           8827|         CLOSED|\n",
      "|      5|2013-07-25 00:00:...|          11318|       COMPLETE|\n",
      "+-------+--------------------+---------------+---------------+\n",
      "only showing top 5 rows\n",
      "\n"
     ]
    }
   ],
   "source": [
    "orders_df.show(5)"
   ]
  },
  {
   "cell_type": "code",
   "execution_count": 14,
   "id": "1516059e-cd74-42ea-8a2e-af109e3676d2",
   "metadata": {},
   "outputs": [
    {
     "name": "stdout",
     "output_type": "stream",
     "text": [
      "+---------+-----------------+--------------------+------------------+------------+--------------------+\n",
      "|productId|productCategoryId|         productName|productDescription|productPrice|        productImage|\n",
      "+---------+-----------------+--------------------+------------------+------------+--------------------+\n",
      "|        1|                2|Quest Q64 10 FT. ...|              null|       59.98|http://images.acm...|\n",
      "|        2|                2|Under Armour Men'...|              null|      129.99|http://images.acm...|\n",
      "|        3|                2|Under Armour Men'...|              null|       89.99|http://images.acm...|\n",
      "|        4|                2|Under Armour Men'...|              null|       89.99|http://images.acm...|\n",
      "|        5|                2|Riddell Youth Rev...|              null|      199.99|http://images.acm...|\n",
      "+---------+-----------------+--------------------+------------------+------------+--------------------+\n",
      "only showing top 5 rows\n",
      "\n"
     ]
    }
   ],
   "source": [
    "products_df.show(5)"
   ]
  },
  {
   "cell_type": "code",
   "execution_count": 15,
   "id": "7eb49cac-4f48-4e9d-9709-d3750f0fa41a",
   "metadata": {},
   "outputs": [
    {
     "name": "stdout",
     "output_type": "stream",
     "text": [
      "+----------+--------------------+-------------------+\n",
      "|categoryId|categoryDepartmentId|       categoryName|\n",
      "+----------+--------------------+-------------------+\n",
      "|         1|                   2|           Football|\n",
      "|         2|                   2|             Soccer|\n",
      "|         3|                   2|Baseball & Softball|\n",
      "|         4|                   2|         Basketball|\n",
      "|         5|                   2|           Lacrosse|\n",
      "+----------+--------------------+-------------------+\n",
      "only showing top 5 rows\n",
      "\n"
     ]
    }
   ],
   "source": [
    "categories_df.show(5)"
   ]
  },
  {
   "cell_type": "code",
   "execution_count": 16,
   "id": "56a916e7-7b02-4710-ad6b-4e5b3d8b4919",
   "metadata": {},
   "outputs": [
    {
     "name": "stdout",
     "output_type": "stream",
     "text": [
      "+------------+--------------+\n",
      "|departmentId|departmentName|\n",
      "+------------+--------------+\n",
      "|           2|       Fitness|\n",
      "|           3|      Footwear|\n",
      "|           4|       Apparel|\n",
      "|           5|          Golf|\n",
      "|           6|      Outdoors|\n",
      "+------------+--------------+\n",
      "only showing top 5 rows\n",
      "\n"
     ]
    }
   ],
   "source": [
    "departments_df.show(5)"
   ]
  },
  {
   "cell_type": "code",
   "execution_count": 17,
   "id": "631144e9-9499-4512-824c-768aceb902fe",
   "metadata": {},
   "outputs": [
    {
     "name": "stdout",
     "output_type": "stream",
     "text": [
      "+----------+-------------+-------------+-------------+----------------+--------------------+------------+-------------+---------------+\n",
      "|customerId|customerFName|customerLName|customerEmail|customerPassword|      customerStreet|customerCity|customerState|customerZipcode|\n",
      "+----------+-------------+-------------+-------------+----------------+--------------------+------------+-------------+---------------+\n",
      "|         1|      Richard|    Hernandez|    XXXXXXXXX|       XXXXXXXXX|  6303 Heather Plaza| Brownsville|           TX|          78521|\n",
      "|         2|         Mary|      Barrett|    XXXXXXXXX|       XXXXXXXXX|9526 Noble Embers...|   Littleton|           CO|          80126|\n",
      "|         3|          Ann|        Smith|    XXXXXXXXX|       XXXXXXXXX|3422 Blue Pioneer...|      Caguas|           PR|            725|\n",
      "|         4|         Mary|        Jones|    XXXXXXXXX|       XXXXXXXXX|  8324 Little Common|  San Marcos|           CA|          92069|\n",
      "|         5|       Robert|       Hudson|    XXXXXXXXX|       XXXXXXXXX|10 Crystal River ...|      Caguas|           PR|            725|\n",
      "+----------+-------------+-------------+-------------+----------------+--------------------+------------+-------------+---------------+\n",
      "only showing top 5 rows\n",
      "\n"
     ]
    }
   ],
   "source": [
    "customers_df.show(5)"
   ]
  },
  {
   "cell_type": "markdown",
   "id": "2c6d688d-6b56-4fe6-aa0e-65c70899f072",
   "metadata": {},
   "source": [
    "### HW 1"
   ]
  },
  {
   "cell_type": "code",
   "execution_count": 18,
   "id": "8da4673a-bbe7-4a48-bed2-48ba33f5725a",
   "metadata": {},
   "outputs": [
    {
     "name": "stderr",
     "output_type": "stream",
     "text": [
      "                                                                                \r"
     ]
    },
    {
     "data": {
      "text/plain": [
       "57431"
      ]
     },
     "execution_count": 18,
     "metadata": {},
     "output_type": "execute_result"
    }
   ],
   "source": [
    "order_items_df.select(\"orderItemOrderId\").distinct().count()"
   ]
  },
  {
   "cell_type": "markdown",
   "id": "58c67563-97bd-4254-913b-8c147a1e6147",
   "metadata": {},
   "source": [
    "### HW 2"
   ]
  },
  {
   "cell_type": "code",
   "execution_count": 19,
   "id": "3cd20e11-89a9-4179-95f6-f5e10149e05a",
   "metadata": {},
   "outputs": [
    {
     "name": "stderr",
     "output_type": "stream",
     "text": [
      "                                                                                \r"
     ]
    },
    {
     "data": {
      "text/plain": [
       "172198"
      ]
     },
     "execution_count": 19,
     "metadata": {},
     "output_type": "execute_result"
    }
   ],
   "source": [
    "order_items_df.count()"
   ]
  },
  {
   "cell_type": "code",
   "execution_count": 20,
   "id": "71859721-6f01-4ceb-9785-48da7b638164",
   "metadata": {},
   "outputs": [
    {
     "data": {
      "text/plain": [
       "68883"
      ]
     },
     "execution_count": 20,
     "metadata": {},
     "output_type": "execute_result"
    }
   ],
   "source": [
    "orders_df.count()"
   ]
  },
  {
   "cell_type": "markdown",
   "id": "28d88f19-e898-4fee-8acb-7f5c18db3733",
   "metadata": {},
   "source": [
    "### HW 3"
   ]
  },
  {
   "cell_type": "code",
   "execution_count": 21,
   "id": "f26933b8-48fa-478f-916e-60f219b63960",
   "metadata": {},
   "outputs": [],
   "source": [
    "dist = orders_df.select(\"orderStatus\").distinct()"
   ]
  },
  {
   "cell_type": "code",
   "execution_count": 22,
   "id": "f9a38adf-d233-4eeb-880b-8c74c499ac81",
   "metadata": {},
   "outputs": [
    {
     "name": "stderr",
     "output_type": "stream",
     "text": [
      "[Stage 30:>                                                         (0 + 1) / 1]\r"
     ]
    },
    {
     "name": "stdout",
     "output_type": "stream",
     "text": [
      "+---------------+\n",
      "|    orderStatus|\n",
      "+---------------+\n",
      "|PENDING_PAYMENT|\n",
      "|       COMPLETE|\n",
      "|        ON_HOLD|\n",
      "| PAYMENT_REVIEW|\n",
      "|     PROCESSING|\n",
      "|         CLOSED|\n",
      "|SUSPECTED_FRAUD|\n",
      "|        PENDING|\n",
      "|       CANCELED|\n",
      "+---------------+\n",
      "\n"
     ]
    },
    {
     "name": "stderr",
     "output_type": "stream",
     "text": [
      "                                                                                \r"
     ]
    }
   ],
   "source": [
    "dist.show()"
   ]
  },
  {
   "cell_type": "code",
   "execution_count": 23,
   "id": "f8ea5395-05bb-4b6d-bc71-6509049341c1",
   "metadata": {},
   "outputs": [],
   "source": [
    "canceled_orders_df = orders_df.filter(F.col('orderStatus')=='CANCELED')"
   ]
  },
  {
   "cell_type": "code",
   "execution_count": 24,
   "id": "7d536ad5-a3b3-448a-ade6-e706298ecc49",
   "metadata": {},
   "outputs": [
    {
     "name": "stderr",
     "output_type": "stream",
     "text": [
      "                                                                                \r"
     ]
    },
    {
     "data": {
      "text/plain": [
       "1428"
      ]
     },
     "execution_count": 24,
     "metadata": {},
     "output_type": "execute_result"
    }
   ],
   "source": [
    "canceled_orders_df.count()"
   ]
  },
  {
   "cell_type": "code",
   "execution_count": 25,
   "id": "5442e253-19bf-4f04-ade6-bf737eb974cb",
   "metadata": {},
   "outputs": [],
   "source": [
    "main_df = canceled_orders_df.join(order_items_df, canceled_orders_df['orderId']==order_items_df['orderItemOrderId'], how='inner')"
   ]
  },
  {
   "cell_type": "code",
   "execution_count": 26,
   "id": "609c9a82-eb50-4591-8f0e-93e4389cd77a",
   "metadata": {},
   "outputs": [],
   "source": [
    "main_df = main_df.join(products_df, main_df['orderItemProductId']==products_df['productId'], how='inner')"
   ]
  },
  {
   "cell_type": "code",
   "execution_count": 27,
   "id": "d085d9e4-5e26-45c4-8ae7-bfbafffaa165",
   "metadata": {},
   "outputs": [
    {
     "name": "stderr",
     "output_type": "stream",
     "text": [
      "                                                                                \r"
     ]
    },
    {
     "data": {
      "text/plain": [
       "3519"
      ]
     },
     "execution_count": 27,
     "metadata": {},
     "output_type": "execute_result"
    }
   ],
   "source": [
    "main_df.count()"
   ]
  },
  {
   "cell_type": "code",
   "execution_count": 28,
   "id": "4f4f17e6-57ce-44e5-9dd5-123194d8cc83",
   "metadata": {},
   "outputs": [],
   "source": [
    "res_df = main_df.groupby('productName').agg(F.sum('orderItemSubTotal').alias('total_sales_amount')).orderBy('total_sales_amount', ascending=False)"
   ]
  },
  {
   "cell_type": "code",
   "execution_count": 29,
   "id": "46108f10-218a-423c-b50c-0f3fc6696e3d",
   "metadata": {},
   "outputs": [
    {
     "name": "stderr",
     "output_type": "stream",
     "text": [
      "[Stage 43:=============================>                            (1 + 1) / 2]\r"
     ]
    },
    {
     "name": "stdout",
     "output_type": "stream",
     "text": [
      "+--------------------+------------------+\n",
      "|         productName|total_sales_amount|\n",
      "+--------------------+------------------+\n",
      "|Field & Stream Sp...|134393.27999999968|\n",
      "|Perfect Fitness P...|  85785.7000000001|\n",
      "|Nike Men's Free 5...| 80691.92999999996|\n",
      "|Diamondback Women...| 80094.66000000027|\n",
      "|Pelican Sunstream...| 66196.68999999986|\n",
      "|Nike Men's Dri-FI...|           65750.0|\n",
      "|Nike Men's CJ Eli...| 60705.32999999982|\n",
      "|O'Brien Men's Neo...|58126.740000000005|\n",
      "|Under Armour Girl...| 26153.45999999997|\n",
      "|LIJA Women's Eyel...|            2145.0|\n",
      "+--------------------+------------------+\n",
      "only showing top 10 rows\n",
      "\n"
     ]
    },
    {
     "name": "stderr",
     "output_type": "stream",
     "text": [
      "                                                                                \r"
     ]
    }
   ],
   "source": [
    "res_df.show(10)"
   ]
  },
  {
   "cell_type": "code",
   "execution_count": 30,
   "id": "c0e0a690-d207-4818-a95b-c9b8787abc2c",
   "metadata": {},
   "outputs": [
    {
     "name": "stderr",
     "output_type": "stream",
     "text": [
      "                                                                                \r"
     ]
    }
   ],
   "source": [
    "res_df.write.mode(\"overwrite\").parquet('/user/root/canceled_products.parquet')"
   ]
  },
  {
   "cell_type": "code",
   "execution_count": 31,
   "id": "79f12977-35e3-4f0a-a1cf-8111ad19a86c",
   "metadata": {},
   "outputs": [
    {
     "name": "stdout",
     "output_type": "stream",
     "text": [
      "Found 10 items\n",
      "drwxr-xr-x   - root supergroup          0 2024-10-29 04:51 /user/root/.sparkStaging\n",
      "drwxr-xr-x   - root supergroup          0 2024-10-29 00:48 /user/root/canceled_categories.parquet\n",
      "drwxr-xr-x   - root supergroup          0 2024-10-29 04:57 /user/root/canceled_products.parquet\n",
      "-rw-r--r--   1 root supergroup       1074 2024-10-28 22:50 /user/root/categories.csv\n",
      "-rw-r--r--   1 root supergroup     953847 2024-10-28 22:50 /user/root/customers.csv\n",
      "drwxr-xr-x   - root supergroup          0 2024-10-28 18:02 /user/root/datasets\n",
      "-rw-r--r--   1 root supergroup         88 2024-10-28 22:50 /user/root/departments.csv\n",
      "-rw-r--r--   1 root supergroup    5408988 2024-10-28 22:50 /user/root/order_items.csv\n",
      "-rw-r--r--   1 root supergroup    2999990 2024-10-28 22:50 /user/root/orders.csv\n",
      "-rw-r--r--   1 root supergroup     174196 2024-10-28 22:50 /user/root/products.csv\n"
     ]
    }
   ],
   "source": [
    "! hdfs dfs -ls /user/root"
   ]
  },
  {
   "cell_type": "markdown",
   "id": "0c331ca0-a3ae-46d8-8967-642c382113ef",
   "metadata": {},
   "source": [
    "### HW 4"
   ]
  },
  {
   "cell_type": "code",
   "execution_count": 32,
   "id": "b016490e-c966-422b-af1b-b1d629c176d4",
   "metadata": {},
   "outputs": [],
   "source": [
    "main2_df = main_df.join(categories_df, main_df['productCategoryId']==categories_df['categoryId'], how='inner')"
   ]
  },
  {
   "cell_type": "code",
   "execution_count": 33,
   "id": "c7d5c338-a3d2-42ab-b8de-791ea2af66ea",
   "metadata": {},
   "outputs": [
    {
     "data": {
      "text/plain": [
       "3519"
      ]
     },
     "execution_count": 33,
     "metadata": {},
     "output_type": "execute_result"
    }
   ],
   "source": [
    "main2_df.count()"
   ]
  },
  {
   "cell_type": "code",
   "execution_count": 34,
   "id": "f75ad60d-0c8d-4771-8d6c-bd3b5ec2f429",
   "metadata": {},
   "outputs": [],
   "source": [
    "res2_df = main2_df.groupby('categoryName').agg(F.sum('orderItemSubTotal').alias('total_sales_amount')).orderBy('total_sales_amount', ascending=False)"
   ]
  },
  {
   "cell_type": "code",
   "execution_count": 35,
   "id": "90811e64-b88c-4199-ae0e-409f72eec94b",
   "metadata": {},
   "outputs": [
    {
     "name": "stderr",
     "output_type": "stream",
     "text": [
      "                                                                                \r"
     ]
    },
    {
     "name": "stdout",
     "output_type": "stream",
     "text": [
      "+--------------------+------------------+\n",
      "|        categoryName|total_sales_amount|\n",
      "+--------------------+------------------+\n",
      "|             Fishing|134393.27999999968|\n",
      "|              Cleats|  85785.7000000001|\n",
      "|    Cardio Equipment| 81351.92999999996|\n",
      "|    Camping & Hiking| 80094.66000000027|\n",
      "|        Water Sports| 66196.68999999986|\n",
      "|     Women's Apparel|           65750.0|\n",
      "|      Men's Footwear| 60705.32999999982|\n",
      "|Indoor/Outdoor Games|58126.740000000005|\n",
      "|       Shop By Sport|27423.439999999973|\n",
      "|         Electronics|5685.4999999999945|\n",
      "+--------------------+------------------+\n",
      "only showing top 10 rows\n",
      "\n"
     ]
    }
   ],
   "source": [
    "res2_df.show(10)"
   ]
  },
  {
   "cell_type": "code",
   "execution_count": 36,
   "id": "a75feb02-38ff-4a09-932b-52236627ab98",
   "metadata": {},
   "outputs": [
    {
     "name": "stderr",
     "output_type": "stream",
     "text": [
      "                                                                                \r"
     ]
    }
   ],
   "source": [
    "res2_df.write.mode(\"overwrite\").parquet('/user/root/canceled_categories.parquet')"
   ]
  },
  {
   "cell_type": "code",
   "execution_count": 37,
   "id": "932b641f-af3c-4fcc-b722-82ac403d5ff3",
   "metadata": {},
   "outputs": [
    {
     "name": "stdout",
     "output_type": "stream",
     "text": [
      "Found 10 items\n",
      "drwxr-xr-x   - root supergroup          0 2024-10-29 04:51 /user/root/.sparkStaging\n",
      "drwxr-xr-x   - root supergroup          0 2024-10-29 04:57 /user/root/canceled_categories.parquet\n",
      "drwxr-xr-x   - root supergroup          0 2024-10-29 04:57 /user/root/canceled_products.parquet\n",
      "-rw-r--r--   1 root supergroup       1074 2024-10-28 22:50 /user/root/categories.csv\n",
      "-rw-r--r--   1 root supergroup     953847 2024-10-28 22:50 /user/root/customers.csv\n",
      "drwxr-xr-x   - root supergroup          0 2024-10-28 18:02 /user/root/datasets\n",
      "-rw-r--r--   1 root supergroup         88 2024-10-28 22:50 /user/root/departments.csv\n",
      "-rw-r--r--   1 root supergroup    5408988 2024-10-28 22:50 /user/root/order_items.csv\n",
      "-rw-r--r--   1 root supergroup    2999990 2024-10-28 22:50 /user/root/orders.csv\n",
      "-rw-r--r--   1 root supergroup     174196 2024-10-28 22:50 /user/root/products.csv\n"
     ]
    }
   ],
   "source": [
    "! hdfs dfs -ls /user/root"
   ]
  },
  {
   "cell_type": "markdown",
   "id": "5819c38e-9e18-482d-bd1b-d087d02c5089",
   "metadata": {},
   "source": [
    "### HW 5"
   ]
  },
  {
   "cell_type": "code",
   "execution_count": 38,
   "id": "ba29470b-1d59-495a-93f8-7a719949ced3",
   "metadata": {},
   "outputs": [],
   "source": [
    "total_sales_df = orders_df.join(order_items_df, orders_df['orderId']==order_items_df['orderItemOrderId'], how='inner')"
   ]
  },
  {
   "cell_type": "code",
   "execution_count": 39,
   "id": "f141c38d-92af-4054-b189-0e05292f5acf",
   "metadata": {},
   "outputs": [
    {
     "data": {
      "text/plain": [
       "172198"
      ]
     },
     "execution_count": 39,
     "metadata": {},
     "output_type": "execute_result"
    }
   ],
   "source": [
    "total_sales_df.count()"
   ]
  },
  {
   "cell_type": "code",
   "execution_count": 40,
   "id": "b3dc4756-60aa-45d6-8c8f-3f8a89c2c8e6",
   "metadata": {},
   "outputs": [
    {
     "name": "stderr",
     "output_type": "stream",
     "text": [
      "                                                                                \r"
     ]
    }
   ],
   "source": [
    "highest_sale = total_sales_df.groupBy(\n",
    "    F.year(\"orderDate\").alias(\"year\"),\n",
    "    F.month(\"orderDate\").alias(\"month\")\n",
    ").agg(\n",
    "    F.sum(\"orderItemSubTotal\").alias(\"total_sales\")\n",
    ").orderBy(F.desc(\"total_sales\")).first()"
   ]
  },
  {
   "cell_type": "code",
   "execution_count": 41,
   "id": "a60f7e28-dca0-4dad-9dd5-02450d62e5bb",
   "metadata": {},
   "outputs": [
    {
     "data": {
      "text/plain": [
       "Row(year=2013, month=11, total_sales=3168656.030000238)"
      ]
     },
     "execution_count": 41,
     "metadata": {},
     "output_type": "execute_result"
    }
   ],
   "source": [
    "highest_sale"
   ]
  },
  {
   "cell_type": "code",
   "execution_count": 42,
   "id": "dead173e-03bc-49ee-a30d-7353367836a5",
   "metadata": {},
   "outputs": [],
   "source": [
    "turkish_months = [\n",
    "    \"Ocak\", \"Şubat\", \"Mart\", \"Nisan\", \"Mayıs\", \"Haziran\", \"Temmuz\", \"Ağustos\", \"Eylül\", \"Ekim\", \"Kasım\", \"Aralık\"\n",
    "]"
   ]
  },
  {
   "cell_type": "code",
   "execution_count": 43,
   "id": "b2f3d5d3-1d2d-49ff-9dce-b6d6637f29c4",
   "metadata": {},
   "outputs": [],
   "source": [
    "year = highest_sale.year\n",
    "month = turkish_months[highest_sale.month - 1] \n",
    "total_sale = highest_sale.total_sales"
   ]
  },
  {
   "cell_type": "code",
   "execution_count": 45,
   "id": "e3a10971-5f27-4e06-8750-06dcfc918453",
   "metadata": {},
   "outputs": [
    {
     "data": {
      "text/plain": [
       "(2013, 'Kasım', 3168656.030000238)"
      ]
     },
     "execution_count": 45,
     "metadata": {},
     "output_type": "execute_result"
    }
   ],
   "source": [
    "year, month, total_sale"
   ]
  },
  {
   "cell_type": "markdown",
   "id": "80c999fc-7839-43f1-82d6-c195726adac9",
   "metadata": {},
   "source": [
    "### HW 6"
   ]
  },
  {
   "cell_type": "code",
   "execution_count": 46,
   "id": "9b9cfc9c-122d-41ae-aa69-6257d158ae17",
   "metadata": {},
   "outputs": [
    {
     "name": "stderr",
     "output_type": "stream",
     "text": [
      "                                                                                \r"
     ]
    }
   ],
   "source": [
    "sales_by_week_day = total_sales_df.groupBy(\n",
    "    F.date_format(\"orderDate\", \"u\").cast(\"int\").alias(\"week_day\")\n",
    ").agg(\n",
    "    F.sum(\"orderItemSubTotal\").alias(\"total_sales\")\n",
    ").orderBy(F.desc(\"total_sales\")).first()"
   ]
  },
  {
   "cell_type": "code",
   "execution_count": 47,
   "id": "880914c2-7a9f-4529-8421-84e3541b2785",
   "metadata": {},
   "outputs": [
    {
     "data": {
      "text/plain": [
       "Row(week_day=5, total_sales=5172864.230001052)"
      ]
     },
     "execution_count": 47,
     "metadata": {},
     "output_type": "execute_result"
    }
   ],
   "source": [
    "sales_by_week_day"
   ]
  },
  {
   "cell_type": "code",
   "execution_count": 48,
   "id": "646e9944-4ec0-4bf9-bac0-b556705d95af",
   "metadata": {},
   "outputs": [],
   "source": [
    "turkish_days = [\n",
    "    \"Pazartesi\",\"Salı\",\"Çarşamba\",\"Perşembe\",\"Cuma\",\"Cumartesi\",\"Pazar\"\n",
    "]"
   ]
  },
  {
   "cell_type": "code",
   "execution_count": 49,
   "id": "45ec3d92-7c55-4e38-879c-0b5a6e830d68",
   "metadata": {},
   "outputs": [],
   "source": [
    "week_day = turkish_days[sales_by_week_day.week_day - 1]\n",
    "total_sale = sales_by_week_day.total_sales"
   ]
  },
  {
   "cell_type": "code",
   "execution_count": 50,
   "id": "05ab2546-55d6-41aa-972f-74ddf5f6d21a",
   "metadata": {},
   "outputs": [
    {
     "data": {
      "text/plain": [
       "('Cuma', 5172864.230001052)"
      ]
     },
     "execution_count": 50,
     "metadata": {},
     "output_type": "execute_result"
    }
   ],
   "source": [
    "week_day, total_sale"
   ]
  },
  {
   "cell_type": "markdown",
   "id": "04da0a9b-b3d7-42f6-9bb9-36d9d6f710d7",
   "metadata": {},
   "source": [
    "### HW 7"
   ]
  },
  {
   "cell_type": "code",
   "execution_count": 51,
   "id": "778c4f6f-a480-4e37-8325-c2a651d53b73",
   "metadata": {},
   "outputs": [],
   "source": [
    "all_df = order_items_df.join(orders_df, order_items_df['orderItemOrderId']==orders_df['orderId'], how='inner')"
   ]
  },
  {
   "cell_type": "code",
   "execution_count": 52,
   "id": "e78812f4-d1cf-4bca-a8aa-5fd85e884c90",
   "metadata": {},
   "outputs": [],
   "source": [
    "all_df = all_df.join(customers_df, all_df['orderCustomerId']==customers_df['customerId'], how='inner')"
   ]
  },
  {
   "cell_type": "code",
   "execution_count": 53,
   "id": "b2eb7334-c8c9-4e90-ba3a-ab3118dcbd19",
   "metadata": {},
   "outputs": [],
   "source": [
    "all_df = all_df.join(products_df, all_df['orderItemProductId']==products_df['productId'], how='inner')"
   ]
  },
  {
   "cell_type": "code",
   "execution_count": 54,
   "id": "20b5c108-79f7-498c-a56b-62d765d84d26",
   "metadata": {},
   "outputs": [],
   "source": [
    "all_df = all_df.join(categories_df, all_df['productCategoryId']==categories_df['categoryId'], how='inner')"
   ]
  },
  {
   "cell_type": "code",
   "execution_count": 55,
   "id": "23a18ef7-6ad1-49b6-a963-92ffbe3affa0",
   "metadata": {},
   "outputs": [],
   "source": [
    "all_df = all_df.join(departments_df, all_df['categoryDepartmentId']==departments_df['departmentId'], how='inner')"
   ]
  },
  {
   "cell_type": "code",
   "execution_count": 56,
   "id": "3bf89dfa-c84b-48de-b849-bf06c2f29b42",
   "metadata": {},
   "outputs": [
    {
     "data": {
      "text/plain": [
       "172198"
      ]
     },
     "execution_count": 56,
     "metadata": {},
     "output_type": "execute_result"
    }
   ],
   "source": [
    "all_df.count()"
   ]
  },
  {
   "cell_type": "code",
   "execution_count": 57,
   "id": "ed994574-5515-412f-8534-36c7e4bcf98f",
   "metadata": {},
   "outputs": [
    {
     "name": "stdout",
     "output_type": "stream",
     "text": [
      "root\n",
      " |-- orderItemName: integer (nullable = true)\n",
      " |-- orderItemOrderId: integer (nullable = true)\n",
      " |-- orderItemProductId: integer (nullable = true)\n",
      " |-- orderItemQuantity: integer (nullable = true)\n",
      " |-- orderItemSubTotal: double (nullable = true)\n",
      " |-- orderItemProductPrice: double (nullable = true)\n",
      " |-- orderId: integer (nullable = true)\n",
      " |-- orderDate: string (nullable = true)\n",
      " |-- orderCustomerId: integer (nullable = true)\n",
      " |-- orderStatus: string (nullable = true)\n",
      " |-- customerId: integer (nullable = true)\n",
      " |-- customerFName: string (nullable = true)\n",
      " |-- customerLName: string (nullable = true)\n",
      " |-- customerEmail: string (nullable = true)\n",
      " |-- customerPassword: string (nullable = true)\n",
      " |-- customerStreet: string (nullable = true)\n",
      " |-- customerCity: string (nullable = true)\n",
      " |-- customerState: string (nullable = true)\n",
      " |-- customerZipcode: integer (nullable = true)\n",
      " |-- productId: integer (nullable = true)\n",
      " |-- productCategoryId: integer (nullable = true)\n",
      " |-- productName: string (nullable = true)\n",
      " |-- productDescription: string (nullable = true)\n",
      " |-- productPrice: double (nullable = true)\n",
      " |-- productImage: string (nullable = true)\n",
      " |-- categoryId: integer (nullable = true)\n",
      " |-- categoryDepartmentId: integer (nullable = true)\n",
      " |-- categoryName: string (nullable = true)\n",
      " |-- departmentId: integer (nullable = true)\n",
      " |-- departmentName: string (nullable = true)\n",
      "\n"
     ]
    }
   ],
   "source": [
    "all_df.printSchema()"
   ]
  },
  {
   "cell_type": "code",
   "execution_count": 62,
   "id": "6980a58d-fbc4-4e4f-8b36-2c2c6701160b",
   "metadata": {},
   "outputs": [],
   "source": [
    "jdbcUrl = f\"jdbc:postgresql://postgresql:5432/test1?user=train&password=Ankara06\""
   ]
  },
  {
   "cell_type": "code",
   "execution_count": 65,
   "id": "401f473b-8487-4293-b3b8-6d7ebf898c94",
   "metadata": {},
   "outputs": [
    {
     "name": "stderr",
     "output_type": "stream",
     "text": [
      "                                                                                \r"
     ]
    }
   ],
   "source": [
    "all_df.write.jdbc(url=jdbcUrl, \n",
    "                            table='retail_all', \n",
    "                            mode='overwrite', \n",
    "                            properties={'driver':'org.postgresql.Driver'})"
   ]
  },
  {
   "cell_type": "code",
   "execution_count": null,
   "id": "8705a603-f416-4424-b30b-960110d25d62",
   "metadata": {},
   "outputs": [],
   "source": []
  }
 ],
 "metadata": {
  "kernelspec": {
   "display_name": "Python 3 (ipykernel)",
   "language": "python",
   "name": "python3"
  },
  "language_info": {
   "codemirror_mode": {
    "name": "ipython",
    "version": 3
   },
   "file_extension": ".py",
   "mimetype": "text/x-python",
   "name": "python",
   "nbconvert_exporter": "python",
   "pygments_lexer": "ipython3",
   "version": "3.8.10"
  }
 },
 "nbformat": 4,
 "nbformat_minor": 5
}
