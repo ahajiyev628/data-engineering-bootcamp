{
 "cells": [
  {
   "cell_type": "code",
   "execution_count": 7,
   "id": "81836502-c337-4dfa-bfa0-8622176dd1b9",
   "metadata": {},
   "outputs": [
    {
     "name": "stdout",
     "output_type": "stream",
     "text": [
      "Downloaded: yellow_tripdata_2022-01.parquet\n",
      "Downloaded: yellow_tripdata_2022-02.parquet\n",
      "Downloaded: yellow_tripdata_2022-03.parquet\n",
      "Downloaded: yellow_tripdata_2022-04.parquet\n",
      "Downloaded: yellow_tripdata_2022-05.parquet\n",
      "Downloaded: yellow_tripdata_2022-06.parquet\n",
      "Downloaded: yellow_tripdata_2022-07.parquet\n",
      "Downloaded: yellow_tripdata_2022-08.parquet\n",
      "Downloaded: yellow_tripdata_2022-09.parquet\n",
      "Downloaded: yellow_tripdata_2022-10.parquet\n",
      "Downloaded: yellow_tripdata_2022-11.parquet\n",
      "Downloaded: yellow_tripdata_2022-12.parquet\n",
      "Downloaded: yellow_tripdata_2023-01.parquet\n",
      "Downloaded: yellow_tripdata_2023-02.parquet\n",
      "Downloaded: yellow_tripdata_2023-03.parquet\n",
      "Downloaded: yellow_tripdata_2023-04.parquet\n",
      "Downloaded: yellow_tripdata_2023-05.parquet\n",
      "Downloaded: yellow_tripdata_2023-06.parquet\n",
      "Downloaded: yellow_tripdata_2023-07.parquet\n",
      "Downloaded: yellow_tripdata_2023-08.parquet\n",
      "Downloaded: yellow_tripdata_2023-09.parquet\n",
      "Downloaded: yellow_tripdata_2023-10.parquet\n",
      "Downloaded: yellow_tripdata_2023-11.parquet\n",
      "Downloaded: yellow_tripdata_2023-12.parquet\n",
      "Downloaded: yellow_tripdata_2024-01.parquet\n",
      "Downloaded: yellow_tripdata_2024-02.parquet\n",
      "Downloaded: yellow_tripdata_2024-03.parquet\n",
      "Downloaded: yellow_tripdata_2024-04.parquet\n",
      "Downloaded: yellow_tripdata_2024-05.parquet\n",
      "Downloaded: yellow_tripdata_2024-06.parquet\n",
      "Downloaded: yellow_tripdata_2024-07.parquet\n",
      "Downloaded: yellow_tripdata_2024-08.parquet\n"
     ]
    }
   ],
   "source": [
    "import os\n",
    "import requests\n",
    "\n",
    "api_url = 'https://api.github.com/repos/erkansirin78/datasets/contents/nyc_taxi_yellow_trip_raw'\n",
    "\n",
    "response = requests.get(api_url)\n",
    "\n",
    "if response.status_code == 200:\n",
    "    files = response.json()\n",
    "    \n",
    "    output_directory = 'nyc_taxi_parquet_files'\n",
    "    os.makedirs(output_directory, exist_ok=True)\n",
    "\n",
    "    for file_info in files:\n",
    "        if file_info['name'].endswith('.parquet'):\n",
    "            file_url = file_info['download_url']\n",
    "            parquet_file_name = file_info['name']\n",
    "            \n",
    "            file_response = requests.get(file_url)\n",
    "            if file_response.status_code == 200:\n",
    "                with open(os.path.join(output_directory, parquet_file_name), 'wb') as f:\n",
    "                    f.write(file_response.content)\n",
    "                print(f\"Downloaded: {parquet_file_name}\")\n",
    "            else:\n",
    "                print(f\"Failed to download: {parquet_file_name} (status code: {file_response.status_code})\")\n",
    "else:\n",
    "    print(f\"Failed to retrieve file list (status code: {response.status_code})\")"
   ]
  },
  {
   "cell_type": "code",
   "execution_count": 19,
   "id": "665a0485-272a-4f21-a9d5-045e3b1099b7",
   "metadata": {},
   "outputs": [],
   "source": [
    "from pyspark.sql import SparkSession\n",
    "from pyspark import SparkContext\n",
    "import configparser\n",
    "from pyspark.sql import functions as F"
   ]
  },
  {
   "cell_type": "code",
   "execution_count": 10,
   "id": "8c04ae4d-ecda-4706-9b27-77d725908ccc",
   "metadata": {},
   "outputs": [
    {
     "name": "stderr",
     "output_type": "stream",
     "text": [
      "24/10/31 14:02:19 WARN SparkSession: Using an existing Spark session; only runtime SQL configurations will take effect.\n"
     ]
    }
   ],
   "source": [
    "accessKeyId='dataops'\n",
    "secretAccessKey='Ankara06'\n",
    "\n",
    "spark = SparkSession.builder \\\n",
    ".appName(\"Week8\") \\\n",
    ".master(\"local[2]\") \\\n",
    ".config(\"spark.jars.packages\", \"org.apache.hadoop:hadoop-aws:3.2.0\") \\\n",
    ".config(\"fs.s3a.access.key\", accessKeyId) \\\n",
    ".config(\"fs.s3a.secret.key\", secretAccessKey) \\\n",
    ".config(\"fs.s3a.path.style.access\", True) \\\n",
    ".config(\"fs.s3a.impl\", \"org.apache.hadoop.fs.s3a.S3AFileSystem\") \\\n",
    ".config(\"fs.s3a.endpoint\", \"http://minio:9000\") \\\n",
    ".getOrCreate()"
   ]
  },
  {
   "cell_type": "code",
   "execution_count": 41,
   "id": "9875704b-783c-4536-951c-784258ab2343",
   "metadata": {},
   "outputs": [],
   "source": [
    "# parquet_directory = \"file:///opt/examples/nyc_taxi_parquet_files\"\n",
    "# df = spark.read.parquet(parquet_directory)"
   ]
  },
  {
   "cell_type": "code",
   "execution_count": 55,
   "id": "8a7ff0e7-29be-4ada-a862-534fd1555f02",
   "metadata": {},
   "outputs": [],
   "source": [
    "from pyspark.sql.types import StructType, StructField, LongType, TimestampType, DoubleType, StringType, DateType\n",
    "\n",
    "schema = StructType([\n",
    "    StructField(\"VendorID\", LongType(), True),\n",
    "    StructField(\"tpep_pickup_datetime\", TimestampType(), True),\n",
    "    StructField(\"tpep_dropoff_datetime\", TimestampType(), True),\n",
    "    StructField(\"passenger_count\", DoubleType(), True),\n",
    "    StructField(\"trip_distance\", DoubleType(), True),\n",
    "    StructField(\"RatecodeID\", DoubleType(), True),\n",
    "    StructField(\"store_and_fwd_flag\", StringType(), True),\n",
    "    StructField(\"PULocationID\", LongType(), True),\n",
    "    StructField(\"DOLocationID\", LongType(), True),\n",
    "    StructField(\"payment_type\", LongType(), True),\n",
    "    StructField(\"fare_amount\", DoubleType(), True),\n",
    "    StructField(\"extra\", DoubleType(), True),\n",
    "    StructField(\"mta_tax\", DoubleType(), True),\n",
    "    StructField(\"tip_amount\", DoubleType(), True),\n",
    "    StructField(\"tolls_amount\", DoubleType(), True),\n",
    "    StructField(\"improvement_surcharge\", DoubleType(), True),\n",
    "    StructField(\"total_amount\", DoubleType(), True),\n",
    "    StructField(\"congestion_surcharge\", DoubleType(), True),\n",
    "    StructField(\"Airport_fee\", DoubleType(), True),\n",
    "    StructField(\"DropOffDay\", DateType(), True)\n",
    "])"
   ]
  },
  {
   "cell_type": "code",
   "execution_count": 54,
   "id": "808a4a2c-7b0b-4974-9901-3591f1254b7d",
   "metadata": {},
   "outputs": [
    {
     "name": "stderr",
     "output_type": "stream",
     "text": [
      "                                                                                \r"
     ]
    }
   ],
   "source": [
    "parquet_directory = \"file:///opt/examples/nyc_taxi_parquet_files\"\n",
    "converted_directory = \"/opt/examples/nyc_taxi_parquet_files_converted\"\n",
    "\n",
    "for file_name in os.listdir(parquet_directory.replace(\"file://\", \"\")):\n",
    "    file_path = f\"{parquet_directory}/{file_name}\"\n",
    "    df = spark.read.parquet(file_path)\n",
    "    \n",
    "    for field in schema.fields:\n",
    "        if field.name in df.columns:\n",
    "            df = df.withColumn(field.name, df[field.name].cast(field.dataType))\n",
    "    df.write.mode(\"overwrite\").parquet(f\"{converted_directory}/{file_name}\")\n"
   ]
  },
  {
   "cell_type": "code",
   "execution_count": 59,
   "id": "88678440-ae83-4938-a89d-85268f74167d",
   "metadata": {},
   "outputs": [
    {
     "name": "stdout",
     "output_type": "stream",
     "text": [
      "+--------+--------------------+---------------------+---------------+-------------+----------+------------------+------------+------------+------------+-----------+-----+-------+----------+------------+---------------------+------------+--------------------+-----------+\n",
      "|VendorID|tpep_pickup_datetime|tpep_dropoff_datetime|passenger_count|trip_distance|RatecodeID|store_and_fwd_flag|PULocationID|DOLocationID|payment_type|fare_amount|extra|mta_tax|tip_amount|tolls_amount|improvement_surcharge|total_amount|congestion_surcharge|Airport_fee|\n",
      "+--------+--------------------+---------------------+---------------+-------------+----------+------------------+------------+------------+------------+-----------+-----+-------+----------+------------+---------------------+------------+--------------------+-----------+\n",
      "|       1| 2024-05-01 00:59:15|  2024-05-01 01:23:50|            1.0|          6.1|       1.0|                 N|         138|         145|           1|       28.2| 7.75|    0.5|       5.0|         0.0|                  1.0|       42.45|                 0.0|       1.75|\n",
      "|       2| 2024-04-30 23:58:26|  2024-05-01 00:29:42|            1.0|        11.23|       1.0|                 N|         138|         249|           1|       46.4|  6.0|    0.5|      8.72|         0.0|                  1.0|       66.87|                 2.5|       1.75|\n",
      "|       2| 2024-05-01 00:57:17|  2024-05-01 01:14:15|            1.0|         9.02|       1.0|                 N|         138|         170|           1|       35.9|  6.0|    0.5|     10.57|        6.94|                  1.0|       65.16|                 2.5|       1.75|\n",
      "|       2| 2024-05-01 00:24:47|  2024-05-01 00:48:51|            1.0|         6.53|       1.0|                 N|          87|         133|           1|       30.3|  1.0|    0.5|      7.06|         0.0|                  1.0|       42.36|                 2.5|        0.0|\n",
      "|       2| 2024-05-01 00:11:20|  2024-05-01 00:52:10|            1.0|        14.38|       1.0|                 N|         161|         165|           1|       61.8|  1.0|    0.5|       0.0|         0.0|                  1.0|        66.8|                 2.5|        0.0|\n",
      "|       2| 2024-05-01 00:54:41|  2024-05-01 01:14:00|            1.0|         9.19|       1.0|                 N|         138|         151|           1|       37.3|  6.0|    0.5|      10.7|        6.94|                  1.0|       64.19|                 0.0|       1.75|\n",
      "|       2| 2024-05-01 00:06:44|  2024-05-01 00:27:44|            1.0|         4.52|       1.0|                 N|         186|          33|           1|       23.3|  1.0|    0.5|      5.09|         0.0|                  1.0|       33.39|                 2.5|        0.0|\n",
      "|       1| 2024-05-01 00:11:37|  2024-05-01 00:20:05|            1.0|          2.7|       1.0|                 N|         237|         166|           1|       12.8|  3.5|    0.5|       3.2|         0.0|                  1.0|        21.0|                 2.5|        0.0|\n",
      "|       1| 2024-05-01 00:37:26|  2024-05-01 00:54:06|            1.0|          4.3|       1.0|                 N|         237|         116|           2|       20.5|  3.5|    0.5|       0.0|         0.0|                  1.0|        25.5|                 2.5|        0.0|\n",
      "|       2| 2024-05-01 00:05:24|  2024-05-01 00:29:26|            1.0|         4.28|       1.0|                 N|         114|         142|           1|       25.4|  1.0|    0.5|      6.08|         0.0|                  1.0|       36.48|                 2.5|        0.0|\n",
      "|       2| 2024-05-01 00:40:09|  2024-05-01 00:51:01|            1.0|         2.23|       1.0|                 N|         142|         170|           2|       12.8|  1.0|    0.5|       0.0|         0.0|                  1.0|        17.8|                 2.5|        0.0|\n",
      "|       2| 2024-05-01 00:55:12|  2024-05-01 01:05:09|            1.0|         1.49|       1.0|                 N|         234|           4|           1|       11.4|  1.0|    0.5|       1.5|         0.0|                  1.0|        17.9|                 2.5|        0.0|\n",
      "|       1| 2024-05-01 00:10:37|  2024-05-01 00:21:05|            1.0|          1.8|       1.0|                 N|         151|         236|           1|       12.1|  3.5|    0.5|      2.57|         0.0|                  1.0|       19.67|                 2.5|        0.0|\n",
      "|       1| 2024-05-01 00:44:12|  2024-05-01 00:56:04|            1.0|          2.2|       1.0|                 N|         237|          75|           1|       14.2|  3.5|    0.5|      4.75|         0.0|                  1.0|       23.95|                 2.5|        0.0|\n",
      "|       2| 2024-05-01 00:26:59|  2024-05-01 01:09:08|            1.0|        13.15|       1.0|                 N|         132|          97|           1|       57.6|  1.0|    0.5|     12.02|         0.0|                  1.0|       73.87|                 0.0|       1.75|\n",
      "|       2| 2024-05-01 00:10:56|  2024-05-01 00:19:23|            1.0|         1.53|       1.0|                 N|         140|         263|           1|       10.7|  1.0|    0.5|       0.0|         0.0|                  1.0|        15.7|                 2.5|        0.0|\n",
      "|       2| 2024-05-01 00:26:29|  2024-05-01 00:40:13|            1.0|         2.46|       1.0|                 N|         249|         233|           1|       14.9|  1.0|    0.5|      5.97|         0.0|                  1.0|       25.87|                 2.5|        0.0|\n",
      "|       2| 2024-05-01 00:48:35|  2024-05-01 00:54:59|            1.0|         1.88|       1.0|                 N|         229|         236|           1|       10.0|  1.0|    0.5|       3.0|         0.0|                  1.0|        18.0|                 2.5|        0.0|\n",
      "|       1| 2024-05-01 00:08:30|  2024-05-01 00:21:42|            2.0|          2.7|       1.0|                 N|         231|          68|           1|       15.6|  3.5|    0.5|       4.1|         0.0|                  1.0|        24.7|                 2.5|        0.0|\n",
      "|       1| 2024-05-01 00:43:55|  2024-05-01 00:51:52|            1.0|          1.7|       1.0|                 N|         231|         249|           1|       10.7|  3.5|    0.5|       0.0|         0.0|                  1.0|        15.7|                 2.5|        0.0|\n",
      "+--------+--------------------+---------------------+---------------+-------------+----------+------------------+------------+------------+------------+-----------+-----+-------+----------+------------+---------------------+------------+--------------------+-----------+\n",
      "only showing top 20 rows\n",
      "\n"
     ]
    }
   ],
   "source": [
    "sample_file = f\"file://{converted_directory}/yellow_tripdata_2024-05.parquet\" \n",
    "sample_df = spark.read.parquet(sample_file)\n",
    "sample_df.show()"
   ]
  },
  {
   "cell_type": "code",
   "execution_count": 65,
   "id": "5b046c87-46cc-4b5a-b495-79dd463555f1",
   "metadata": {},
   "outputs": [
    {
     "name": "stdout",
     "output_type": "stream",
     "text": [
      "+--------+--------------------+---------------------+---------------+-------------+----------+------------------+------------+------------+------------+-----------+-----+-------+----------+------------+---------------------+------------+--------------------+-----------+\n",
      "|VendorID|tpep_pickup_datetime|tpep_dropoff_datetime|passenger_count|trip_distance|RatecodeID|store_and_fwd_flag|PULocationID|DOLocationID|payment_type|fare_amount|extra|mta_tax|tip_amount|tolls_amount|improvement_surcharge|total_amount|congestion_surcharge|airport_fee|\n",
      "+--------+--------------------+---------------------+---------------+-------------+----------+------------------+------------+------------+------------+-----------+-----+-------+----------+------------+---------------------+------------+--------------------+-----------+\n",
      "|       1| 2022-10-01 00:03:41|  2022-10-01 00:18:39|            1.0|          1.7|       1.0|                 N|         249|         107|           1|        9.5|  3.0|    0.5|      2.65|         0.0|                  0.3|       15.95|                 2.5|        0.0|\n",
      "|       2| 2022-10-01 00:14:30|  2022-10-01 00:19:48|            2.0|         0.72|       1.0|                 N|         151|         238|           2|        5.5|  0.5|    0.5|       0.0|         0.0|                  0.3|         9.3|                 2.5|        0.0|\n",
      "|       2| 2022-10-01 00:27:13|  2022-10-01 00:37:41|            1.0|         1.74|       1.0|                 N|         238|         166|           1|        9.0|  0.5|    0.5|      2.06|         0.0|                  0.3|       12.36|                 0.0|        0.0|\n",
      "|       1| 2022-10-01 00:32:53|  2022-10-01 00:38:55|            0.0|          1.3|       1.0|                 N|         142|         239|           1|        6.5|  3.0|    0.5|      2.05|         0.0|                  0.3|       12.35|                 2.5|        0.0|\n",
      "|       1| 2022-10-01 00:44:55|  2022-10-01 00:50:21|            0.0|          1.0|       1.0|                 N|         238|         166|           1|        6.0|  0.5|    0.5|       1.8|         0.0|                  0.3|         9.1|                 0.0|        0.0|\n",
      "|       1| 2022-10-01 00:22:52|  2022-10-01 00:52:14|            1.0|          6.8|       1.0|                 Y|         186|          41|           2|       25.5|  3.0|    0.5|       0.0|         0.0|                  0.3|        29.3|                 2.5|        0.0|\n",
      "|       2| 2022-10-01 00:33:19|  2022-10-01 00:44:51|            3.0|         1.88|       1.0|                 N|         162|         145|           2|       10.5|  0.5|    0.5|       0.0|         0.0|                  0.3|        14.3|                 2.5|        0.0|\n",
      "|       1| 2022-10-01 00:02:42|  2022-10-01 00:50:01|            1.0|         12.2|       1.0|                 N|         100|          22|           1|       41.0|  3.0|    0.5|       3.0|         0.0|                  0.3|        47.8|                 2.5|        0.0|\n",
      "|       2| 2022-10-01 00:06:35|  2022-10-01 00:24:38|            1.0|         7.79|       1.0|                 N|         138|         112|           1|       23.5|  0.5|    0.5|      4.96|         0.0|                  0.3|       31.01|                 0.0|       1.25|\n",
      "|       2| 2022-10-01 00:29:25|  2022-10-01 00:43:15|            1.0|         4.72|       1.0|                 N|         145|          75|           1|       14.5|  0.5|    0.5|       1.5|         0.0|                  0.3|        19.8|                 2.5|        0.0|\n",
      "|       1| 2022-10-01 00:01:55|  2022-10-01 00:20:16|            1.0|          8.8|       1.0|                 N|         138|         236|           1|       26.0| 4.25|    0.5|      5.64|        6.55|                  0.3|       43.24|                 2.5|       1.25|\n",
      "|       1| 2022-10-01 00:27:48|  2022-10-01 00:59:50|            1.0|          8.6|       1.0|                 N|         140|          36|           1|       29.5|  3.0|    0.5|       6.0|         0.0|                  0.3|        39.3|                 2.5|        0.0|\n",
      "|       1| 2022-10-01 00:05:27|  2022-10-01 00:35:33|            4.0|         12.0|       1.0|                 N|          70|         230|           2|       36.5|  3.0|    0.5|       0.0|        6.55|                  0.3|       46.85|                 2.5|        0.0|\n",
      "|       1| 2022-10-01 00:38:53|  2022-10-01 00:48:13|            2.0|          1.4|       1.0|                 N|         230|          68|           1|        8.5|  3.0|    0.5|      3.05|         0.0|                  0.3|       15.35|                 2.5|        0.0|\n",
      "|       2| 2022-10-01 00:24:40|  2022-10-01 00:30:23|            1.0|         0.76|       1.0|                 N|          79|         113|           1|        5.5|  0.5|    0.5|      0.93|         0.0|                  0.3|       10.23|                 2.5|        0.0|\n",
      "|       2| 2022-10-01 00:32:22|  2022-10-01 00:58:55|            1.0|          7.8|       1.0|                 N|         113|         116|           1|       26.5|  0.5|    0.5|      6.06|         0.0|                  0.3|       36.36|                 2.5|        0.0|\n",
      "|       2| 2022-10-01 00:17:08|  2022-10-01 00:30:50|            2.0|          2.9|       1.0|                 N|          13|         249|           1|       12.0|  0.5|    0.5|       2.8|         0.0|                  0.3|        18.6|                 2.5|        0.0|\n",
      "|       2| 2022-10-01 00:32:14|  2022-10-01 00:44:35|            1.0|         1.71|       1.0|                 N|         249|          79|           1|        9.0|  0.5|    0.5|      2.56|         0.0|                  0.3|       15.36|                 2.5|        0.0|\n",
      "|       2| 2022-10-01 00:09:24|  2022-10-01 00:21:45|            1.0|          2.3|       1.0|                 N|          48|         249|           1|       10.0|  0.5|    0.5|      2.76|         0.0|                  0.3|       16.56|                 2.5|        0.0|\n",
      "|       2| 2022-10-01 00:22:29|  2022-10-01 00:33:53|            2.0|         1.67|       1.0|                 N|         249|         224|           1|        8.5|  0.5|    0.5|      2.46|         0.0|                  0.3|       14.76|                 2.5|        0.0|\n",
      "+--------+--------------------+---------------------+---------------+-------------+----------+------------------+------------+------------+------------+-----------+-----+-------+----------+------------+---------------------+------------+--------------------+-----------+\n",
      "only showing top 20 rows\n",
      "\n"
     ]
    }
   ],
   "source": [
    "df = spark.read.option(\"mergeSchema\", \"true\") \\\n",
    "                        .option(\"recursiveFileLookup\", \"true\") \\\n",
    "                        .parquet(f\"file://{converted_directory}\")\n",
    "\n",
    "df.show()"
   ]
  },
  {
   "cell_type": "code",
   "execution_count": 68,
   "id": "468c74be-6114-4df8-9733-30173e9f993b",
   "metadata": {},
   "outputs": [],
   "source": [
    "df = df.withColumn(\"day\", F.to_date(F.col(\"tpep_dropoff_datetime\")))"
   ]
  },
  {
   "cell_type": "code",
   "execution_count": 69,
   "id": "0b937996-842d-41ae-9dbd-e122c22081e3",
   "metadata": {},
   "outputs": [
    {
     "name": "stdout",
     "output_type": "stream",
     "text": [
      "+--------+--------------------+---------------------+---------------+-------------+----------+------------------+------------+------------+------------+-----------+-----+-------+----------+------------+---------------------+------------+--------------------+-----------+----------+----------+\n",
      "|VendorID|tpep_pickup_datetime|tpep_dropoff_datetime|passenger_count|trip_distance|RatecodeID|store_and_fwd_flag|PULocationID|DOLocationID|payment_type|fare_amount|extra|mta_tax|tip_amount|tolls_amount|improvement_surcharge|total_amount|congestion_surcharge|airport_fee|DropOffDay|       day|\n",
      "+--------+--------------------+---------------------+---------------+-------------+----------+------------------+------------+------------+------------+-----------+-----+-------+----------+------------+---------------------+------------+--------------------+-----------+----------+----------+\n",
      "|       1| 2022-10-01 00:03:41|  2022-10-01 00:18:39|            1.0|          1.7|       1.0|                 N|         249|         107|           1|        9.5|  3.0|    0.5|      2.65|         0.0|                  0.3|       15.95|                 2.5|        0.0|2022-10-01|2022-10-01|\n",
      "|       2| 2022-10-01 00:14:30|  2022-10-01 00:19:48|            2.0|         0.72|       1.0|                 N|         151|         238|           2|        5.5|  0.5|    0.5|       0.0|         0.0|                  0.3|         9.3|                 2.5|        0.0|2022-10-01|2022-10-01|\n",
      "|       2| 2022-10-01 00:27:13|  2022-10-01 00:37:41|            1.0|         1.74|       1.0|                 N|         238|         166|           1|        9.0|  0.5|    0.5|      2.06|         0.0|                  0.3|       12.36|                 0.0|        0.0|2022-10-01|2022-10-01|\n",
      "|       1| 2022-10-01 00:32:53|  2022-10-01 00:38:55|            0.0|          1.3|       1.0|                 N|         142|         239|           1|        6.5|  3.0|    0.5|      2.05|         0.0|                  0.3|       12.35|                 2.5|        0.0|2022-10-01|2022-10-01|\n",
      "|       1| 2022-10-01 00:44:55|  2022-10-01 00:50:21|            0.0|          1.0|       1.0|                 N|         238|         166|           1|        6.0|  0.5|    0.5|       1.8|         0.0|                  0.3|         9.1|                 0.0|        0.0|2022-10-01|2022-10-01|\n",
      "|       1| 2022-10-01 00:22:52|  2022-10-01 00:52:14|            1.0|          6.8|       1.0|                 Y|         186|          41|           2|       25.5|  3.0|    0.5|       0.0|         0.0|                  0.3|        29.3|                 2.5|        0.0|2022-10-01|2022-10-01|\n",
      "|       2| 2022-10-01 00:33:19|  2022-10-01 00:44:51|            3.0|         1.88|       1.0|                 N|         162|         145|           2|       10.5|  0.5|    0.5|       0.0|         0.0|                  0.3|        14.3|                 2.5|        0.0|2022-10-01|2022-10-01|\n",
      "|       1| 2022-10-01 00:02:42|  2022-10-01 00:50:01|            1.0|         12.2|       1.0|                 N|         100|          22|           1|       41.0|  3.0|    0.5|       3.0|         0.0|                  0.3|        47.8|                 2.5|        0.0|2022-10-01|2022-10-01|\n",
      "|       2| 2022-10-01 00:06:35|  2022-10-01 00:24:38|            1.0|         7.79|       1.0|                 N|         138|         112|           1|       23.5|  0.5|    0.5|      4.96|         0.0|                  0.3|       31.01|                 0.0|       1.25|2022-10-01|2022-10-01|\n",
      "|       2| 2022-10-01 00:29:25|  2022-10-01 00:43:15|            1.0|         4.72|       1.0|                 N|         145|          75|           1|       14.5|  0.5|    0.5|       1.5|         0.0|                  0.3|        19.8|                 2.5|        0.0|2022-10-01|2022-10-01|\n",
      "|       1| 2022-10-01 00:01:55|  2022-10-01 00:20:16|            1.0|          8.8|       1.0|                 N|         138|         236|           1|       26.0| 4.25|    0.5|      5.64|        6.55|                  0.3|       43.24|                 2.5|       1.25|2022-10-01|2022-10-01|\n",
      "|       1| 2022-10-01 00:27:48|  2022-10-01 00:59:50|            1.0|          8.6|       1.0|                 N|         140|          36|           1|       29.5|  3.0|    0.5|       6.0|         0.0|                  0.3|        39.3|                 2.5|        0.0|2022-10-01|2022-10-01|\n",
      "|       1| 2022-10-01 00:05:27|  2022-10-01 00:35:33|            4.0|         12.0|       1.0|                 N|          70|         230|           2|       36.5|  3.0|    0.5|       0.0|        6.55|                  0.3|       46.85|                 2.5|        0.0|2022-10-01|2022-10-01|\n",
      "|       1| 2022-10-01 00:38:53|  2022-10-01 00:48:13|            2.0|          1.4|       1.0|                 N|         230|          68|           1|        8.5|  3.0|    0.5|      3.05|         0.0|                  0.3|       15.35|                 2.5|        0.0|2022-10-01|2022-10-01|\n",
      "|       2| 2022-10-01 00:24:40|  2022-10-01 00:30:23|            1.0|         0.76|       1.0|                 N|          79|         113|           1|        5.5|  0.5|    0.5|      0.93|         0.0|                  0.3|       10.23|                 2.5|        0.0|2022-10-01|2022-10-01|\n",
      "|       2| 2022-10-01 00:32:22|  2022-10-01 00:58:55|            1.0|          7.8|       1.0|                 N|         113|         116|           1|       26.5|  0.5|    0.5|      6.06|         0.0|                  0.3|       36.36|                 2.5|        0.0|2022-10-01|2022-10-01|\n",
      "|       2| 2022-10-01 00:17:08|  2022-10-01 00:30:50|            2.0|          2.9|       1.0|                 N|          13|         249|           1|       12.0|  0.5|    0.5|       2.8|         0.0|                  0.3|        18.6|                 2.5|        0.0|2022-10-01|2022-10-01|\n",
      "|       2| 2022-10-01 00:32:14|  2022-10-01 00:44:35|            1.0|         1.71|       1.0|                 N|         249|          79|           1|        9.0|  0.5|    0.5|      2.56|         0.0|                  0.3|       15.36|                 2.5|        0.0|2022-10-01|2022-10-01|\n",
      "|       2| 2022-10-01 00:09:24|  2022-10-01 00:21:45|            1.0|          2.3|       1.0|                 N|          48|         249|           1|       10.0|  0.5|    0.5|      2.76|         0.0|                  0.3|       16.56|                 2.5|        0.0|2022-10-01|2022-10-01|\n",
      "|       2| 2022-10-01 00:22:29|  2022-10-01 00:33:53|            2.0|         1.67|       1.0|                 N|         249|         224|           1|        8.5|  0.5|    0.5|      2.46|         0.0|                  0.3|       14.76|                 2.5|        0.0|2022-10-01|2022-10-01|\n",
      "+--------+--------------------+---------------------+---------------+-------------+----------+------------------+------------+------------+------------+-----------+-----+-------+----------+------------+---------------------+------------+--------------------+-----------+----------+----------+\n",
      "only showing top 20 rows\n",
      "\n"
     ]
    }
   ],
   "source": [
    "df.show()"
   ]
  },
  {
   "cell_type": "code",
   "execution_count": 70,
   "id": "992f39c7-2e47-4838-92a1-d322022bd25c",
   "metadata": {},
   "outputs": [
    {
     "name": "stderr",
     "output_type": "stream",
     "text": [
      "24/10/31 14:52:52 WARN MetricsConfig: Cannot locate configuration: tried hadoop-metrics2-s3a-file-system.properties,hadoop-metrics2.properties\n",
      "                                                                                \r"
     ]
    }
   ],
   "source": [
    "minio_path = \"s3a://week8hw/nyc_yellow_pby_day_parquet\"\n",
    "minio_bucket = \"s3a://week8hw\"\n",
    "partition_column = \"day\"\n",
    "\n",
    "df.write \\\n",
    "    .partitionBy(partition_column) \\\n",
    "    .format(\"parquet\") \\\n",
    "    .mode(\"overwrite\") \\\n",
    "    .option(\"compression\", \"snappy\") \\\n",
    "    .save(minio_path)\n"
   ]
  }
 ],
 "metadata": {
  "kernelspec": {
   "display_name": "Python 3 (ipykernel)",
   "language": "python",
   "name": "python3"
  },
  "language_info": {
   "codemirror_mode": {
    "name": "ipython",
    "version": 3
   },
   "file_extension": ".py",
   "mimetype": "text/x-python",
   "name": "python",
   "nbconvert_exporter": "python",
   "pygments_lexer": "ipython3",
   "version": "3.12.7"
  }
 },
 "nbformat": 4,
 "nbformat_minor": 5
}
